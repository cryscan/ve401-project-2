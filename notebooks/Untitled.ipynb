{
 "cells": [
  {
   "cell_type": "code",
   "execution_count": null,
   "metadata": {},
   "outputs": [],
   "source": [
    "import numpy as np\n",
    "from matplotlib import pyplot as plt\n",
    "import csv\n",
    "import calendar\n",
    "import datetime"
   ]
  },
  {
   "cell_type": "code",
   "execution_count": null,
   "metadata": {},
   "outputs": [],
   "source": [
    "header = {}\n",
    "data = []\n",
    "\n",
    "with open('data.csv', 'r') as fp:\n",
    "    csv_reader = csv.DictReader(fp, delimiter=',')\n",
    "    line_count = 0\n",
    "    for row in csv_reader:\n",
    "        if line_count == 0:\n",
    "            header.update(row)\n",
    "        data.append(row)"
   ]
  },
  {
   "cell_type": "code",
   "execution_count": null,
   "metadata": {},
   "outputs": [],
   "source": [
    "date = data[0]['date']\n",
    "date.split('-')"
   ]
  },
  {
   "cell_type": "code",
   "execution_count": null,
   "metadata": {},
   "outputs": [],
   "source": [
    "years = [2015, 2016, 2017, 2018]"
   ]
  },
  {
   "cell_type": "code",
   "execution_count": null,
   "metadata": {},
   "outputs": [],
   "source": [
    "cal = calendar.Calendar()\n",
    "dates = [cal.yeardatescalendar(i) for i in years]\n",
    "counts = {}\n",
    "\n",
    "for year in dates:\n",
    "    for season in year:\n",
    "        for month in season:\n",
    "            for week in month:\n",
    "                for date in week:\n",
    "                    if date.year in years:\n",
    "                        counts.setdefault(date, 0)"
   ]
  },
  {
   "cell_type": "code",
   "execution_count": null,
   "metadata": {},
   "outputs": [],
   "source": [
    "ds = list(counts.keys())\n",
    "ds.index(datetime.date(2016, 1, 1))\n",
    "\n",
    "plt.bar(np.arange(len(ds)), counts.values(), 1.0)\n",
    "index = [ds.index(datetime.date(year, 1, 1)) for year in [2016, 2017, 2018]]\n",
    "plt.xticks(index, ['2016', '2017', '2018'])\n",
    "plt.xlabel('Date')\n",
    "plt.ylabel('Number of police shooting')\n",
    "\n",
    "fig = plt.gcf()\n",
    "fig.set_size_inches(10, 4)"
   ]
  },
  {
   "cell_type": "code",
   "execution_count": null,
   "metadata": {},
   "outputs": [],
   "source": [
    "week_days = ['Monday', 'Tuesday', 'Wednesday', 'Thursday', 'Friday', 'Saturday', 'Sunday']\n",
    "week_count = np.zeros(7)\n",
    "\n",
    "month_names = ['Jan', 'Feb', 'Mar', 'Apr', 'Feb', 'Jun', 'Jul', 'Aug', 'Sep', 'Oct', 'Nov', 'Dec']\n",
    "month_count = np.zeros(12)\n",
    "\n",
    "for row in data:\n",
    "    date = row['date']\n",
    "    year, month, day = date.split('-')\n",
    "    year, month, day = int(year), int(month), int(day)\n",
    "    if year in [2015, 2016, 2017, 2018]:\n",
    "        weekday = calendar.weekday(year, month, day)\n",
    "        week_count[weekday] += 1\n",
    "        month_count[month - 1] += 1\n",
    "        counts[datetime.date(year, month, day)] += 1"
   ]
  },
  {
   "cell_type": "code",
   "execution_count": null,
   "metadata": {},
   "outputs": [],
   "source": [
    "plt.bar(week_days, week_count, 0.8)\n",
    "plt.xticks(rotation=60)\n",
    "plt.ylabel('Number of police shooting 15-18')\n",
    "plt.show()"
   ]
  },
  {
   "cell_type": "code",
   "execution_count": null,
   "metadata": {},
   "outputs": [],
   "source": [
    "plt.bar(month_names, month_count, 0.8)\n",
    "plt.xticks(rotation=60)\n",
    "plt.ylabel('Number of police shooting 15-18')\n",
    "plt.show()"
   ]
  },
  {
   "cell_type": "code",
   "execution_count": null,
   "metadata": {},
   "outputs": [],
   "source": [
    "num = np.array(list(counts.values()))\n",
    "k = np.mean(num)"
   ]
  },
  {
   "cell_type": "code",
   "execution_count": null,
   "metadata": {},
   "outputs": [],
   "source": [
    "from scipy.stats import poisson"
   ]
  },
  {
   "cell_type": "code",
   "execution_count": null,
   "metadata": {},
   "outputs": [],
   "source": [
    "x = np.arange(np.max(num))\n",
    "poi = poisson.pmf(x, k) * len(num)"
   ]
  },
  {
   "cell_type": "code",
   "execution_count": null,
   "metadata": {},
   "outputs": [],
   "source": [
    "plt.hist(num, rwidth=0.8, align='left')\n",
    "plt.xlabel(r\"Numer of police shooting\")\n",
    "plt.ylabel(r\"Number of occurance\")\n",
    "plt.show()"
   ]
  },
  {
   "cell_type": "code",
   "execution_count": null,
   "metadata": {},
   "outputs": [],
   "source": [
    "colors = plt.rcParams['axes.prop_cycle'].by_key()['color']\n",
    "\n",
    "plt.xlabel(r\"Numer of police shooting\")\n",
    "plt.ylabel(r\"Number of occurance\")\n",
    "plt.bar(np.arange(len(poi)), poi, color=colors[1])\n",
    "plt.show()"
   ]
  },
  {
   "cell_type": "code",
   "execution_count": null,
   "metadata": {},
   "outputs": [],
   "source": [
    "counts_2015 = dict((k, v) for k, v in counts.items() if k.year == 2015)\n",
    "counts_2016 = dict((k, v) for k, v in counts.items() if k.year == 2016)\n",
    "counts_2017 = dict((k, v) for k, v in counts.items() if k.year == 2017)\n",
    "counts_2018 = dict((k, v) for k, v in counts.items() if k.year == 2018)"
   ]
  },
  {
   "cell_type": "code",
   "execution_count": null,
   "metadata": {},
   "outputs": [],
   "source": [
    "num = np.array(list(counts_2015.values()))\n",
    "plt.xlabel(r\"Numer of police shooting\")\n",
    "plt.ylabel(r\"Number of occurance\")\n",
    "plt.hist(num, range(10), rwidth=0.8, align='left')\n",
    "plt.show()"
   ]
  },
  {
   "cell_type": "code",
   "execution_count": null,
   "metadata": {},
   "outputs": [],
   "source": [
    "num = np.array(list(counts_2016.values()))\n",
    "plt.hist(num, range(10), rwidth=0.8, align='left')\n",
    "plt.xlabel(r\"Numer of police shooting\")\n",
    "plt.ylabel(r\"Number of occurance\")\n",
    "plt.show()"
   ]
  },
  {
   "cell_type": "code",
   "execution_count": null,
   "metadata": {},
   "outputs": [],
   "source": [
    "num = np.array(list(counts_2017.values()))\n",
    "plt.hist(num, range(10), rwidth=0.8, align='left')\n",
    "plt.xlabel(r\"Numer of police shooting\")\n",
    "plt.ylabel(r\"Number of occurance\")\n",
    "plt.show()"
   ]
  },
  {
   "cell_type": "code",
   "execution_count": null,
   "metadata": {
    "scrolled": true
   },
   "outputs": [],
   "source": [
    "num = np.array(list(counts_2018.values()))\n",
    "plt.hist(num, range(10), rwidth=0.8, align='left')\n",
    "plt.xlabel(r\"Numer of police shooting\")\n",
    "plt.ylabel(r\"Number of occurance\")\n",
    "plt.show()"
   ]
  },
  {
   "cell_type": "code",
   "execution_count": null,
   "metadata": {},
   "outputs": [],
   "source": []
  }
 ],
 "metadata": {
  "kernelspec": {
   "display_name": "Python 3",
   "language": "python",
   "name": "python3"
  },
  "language_info": {
   "codemirror_mode": {
    "name": "ipython",
    "version": 3
   },
   "file_extension": ".py",
   "mimetype": "text/x-python",
   "name": "python",
   "nbconvert_exporter": "python",
   "pygments_lexer": "ipython3",
   "version": "3.7.1"
  }
 },
 "nbformat": 4,
 "nbformat_minor": 2
}
